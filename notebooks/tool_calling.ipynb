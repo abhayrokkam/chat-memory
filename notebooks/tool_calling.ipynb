{
 "cells": [
  {
   "cell_type": "code",
   "execution_count": 5,
   "metadata": {},
   "outputs": [],
   "source": [
    "from pydantic import BaseModel, Field"
   ]
  },
  {
   "cell_type": "code",
   "execution_count": 1,
   "metadata": {},
   "outputs": [],
   "source": [
    "memory_file_path = '../data/memories.txt'\n",
    "\n",
    "with open(memory_file_path, 'r') as file:\n",
    "    memories = file.readlines()"
   ]
  },
  {
   "cell_type": "code",
   "execution_count": 2,
   "metadata": {},
   "outputs": [],
   "source": [
    "def save_memory(memory: str) -> None:\n",
    "    \"\"\"\n",
    "    Save a memory to the list of memories.\n",
    "\n",
    "    This function appends a given memory (string) to the `memories` list.\n",
    "\n",
    "    Args:\n",
    "        memory (str): The memory to be saved. It should be a string containing the memory.\n",
    "\n",
    "    Returns:\n",
    "        None: This function does not return any value. It modifies the `memories` list in place.\n",
    "    \"\"\"\n",
    "    memories.append(memory)"
   ]
  },
  {
   "cell_type": "code",
   "execution_count": null,
   "metadata": {},
   "outputs": [],
   "source": [
    "def replace_memory(target_memory: str, replacement_memory: str) -> None:\n",
    "    \"\"\"\n",
    "    Replace a memory in the memory list with a new one.\n",
    "\n",
    "    This function searches for a specific memory in the `memories` list and replaces it with a new memory. \n",
    "\n",
    "    Args:\n",
    "        target_memory (str): The memory to be replaced. It should be a string that\n",
    "                              matches an existing memory in the list.\n",
    "        replacement_memory (str): The new memory that will replace the target memory.\n",
    "                                  This should be a string containing the replacement memory.\n",
    "\n",
    "    Returns:\n",
    "        None: This function does not return any value. It modifies the `memories` list in place.\n",
    "    \"\"\"\n",
    "    for i, memory in enumerate(memories):\n",
    "        if memory == target_memory:\n",
    "            memories[i] = replacement_memory\n",
    "            \n",
    "            print(f\"[INFO] Memory has been replaced\")\n",
    "            print(f\"[INFO] Old Memory: {target_memory}  |  New Memory: {replacement_memory}\")"
   ]
  },
  {
   "cell_type": "code",
   "execution_count": null,
   "metadata": {},
   "outputs": [],
   "source": []
  }
 ],
 "metadata": {
  "kernelspec": {
   "display_name": ".chat-memory",
   "language": "python",
   "name": "python3"
  },
  "language_info": {
   "codemirror_mode": {
    "name": "ipython",
    "version": 3
   },
   "file_extension": ".py",
   "mimetype": "text/x-python",
   "name": "python",
   "nbconvert_exporter": "python",
   "pygments_lexer": "ipython3",
   "version": "3.12.3"
  }
 },
 "nbformat": 4,
 "nbformat_minor": 2
}
