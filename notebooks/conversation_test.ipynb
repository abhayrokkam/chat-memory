{
 "cells": [
  {
   "cell_type": "code",
   "execution_count": null,
   "metadata": {},
   "outputs": [],
   "source": [
    "import os\n",
    "import sys\n",
    "\n",
    "import torch\n",
    "\n",
    "super_directory = os.path.abspath('..')\n",
    "sys.path.append(super_directory)\n",
    "\n",
    "from modules import engine, utils"
   ]
  },
  {
   "cell_type": "code",
   "execution_count": null,
   "metadata": {},
   "outputs": [],
   "source": [
    "file_path = '../data/conversation.txt'\n",
    "user_inputs = utils.extract_user_messages(file_path)"
   ]
  },
  {
   "cell_type": "code",
   "execution_count": null,
   "metadata": {},
   "outputs": [],
   "source": [
    "judgement_gen = engine.JudgementGenerator()"
   ]
  },
  {
   "cell_type": "code",
   "execution_count": null,
   "metadata": {},
   "outputs": [],
   "source": [
    "judgements = []\n",
    "\n",
    "for user_input in user_inputs:\n",
    "    judgement = judgement_gen.get_judgement(user_input)\n",
    "    judgements.append(judgement)"
   ]
  },
  {
   "cell_type": "code",
   "execution_count": null,
   "metadata": {},
   "outputs": [],
   "source": [
    "# Emptying cuda\n",
    "torch.cuda.empty_cache()\n",
    "del judgement_gen"
   ]
  },
  {
   "cell_type": "code",
   "execution_count": null,
   "metadata": {},
   "outputs": [],
   "source": [
    "memory_gen = engine.MemoryGenerator()"
   ]
  },
  {
   "cell_type": "code",
   "execution_count": null,
   "metadata": {},
   "outputs": [],
   "source": [
    "memories = []\n",
    "\n",
    "for i, judgement in enumerate(judgements):\n",
    "    if judgement == 'TRUE':\n",
    "        memory = memory_gen.get_memory(user_inputs[i])\n",
    "        \n",
    "        memory_splits = memory.split('(')[1:]\n",
    "        \n",
    "        memories.extend((\"(\" + memory).strip() for memory in memory_splits)\n",
    "        \n",
    "        print(f\"\\nUser Input: {user_inputs[i]}\")\n",
    "        print(f\"Memory: {memory}\")"
   ]
  },
  {
   "cell_type": "code",
   "execution_count": null,
   "metadata": {},
   "outputs": [],
   "source": [
    "file_path = '../data/memories.txt'\n",
    "\n",
    "with open(file_path, 'w') as file:\n",
    "    for memory in memories:\n",
    "        file.write(memory + '\\n')"
   ]
  }
 ],
 "metadata": {
  "kernelspec": {
   "display_name": ".chat-memory",
   "language": "python",
   "name": "python3"
  },
  "language_info": {
   "name": "python",
   "version": "3.12.3"
  }
 },
 "nbformat": 4,
 "nbformat_minor": 2
}
