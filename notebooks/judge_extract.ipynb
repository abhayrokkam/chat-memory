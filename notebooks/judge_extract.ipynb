{
 "cells": [
  {
   "cell_type": "code",
   "execution_count": 1,
   "metadata": {},
   "outputs": [
    {
     "name": "stderr",
     "output_type": "stream",
     "text": [
      "/home/abhayrokkam/projects/chat-memory/.chat-memory/lib/python3.12/site-packages/tqdm/auto.py:21: TqdmWarning: IProgress not found. Please update jupyter and ipywidgets. See https://ipywidgets.readthedocs.io/en/stable/user_install.html\n",
      "  from .autonotebook import tqdm as notebook_tqdm\n"
     ]
    }
   ],
   "source": [
    "import torch\n",
    "from transformers import AutoModelForCausalLM, AutoTokenizer, pipeline"
   ]
  },
  {
   "cell_type": "code",
   "execution_count": 2,
   "metadata": {},
   "outputs": [],
   "source": [
    "# Clearing cuda cache\n",
    "torch.cuda.empty_cache()"
   ]
  },
  {
   "cell_type": "markdown",
   "metadata": {},
   "source": [
    "# Models"
   ]
  },
  {
   "cell_type": "code",
   "execution_count": 3,
   "metadata": {},
   "outputs": [
    {
     "name": "stderr",
     "output_type": "stream",
     "text": [
      "`flash-attention` package not found, consider installing for better performance: No module named 'flash_attn'.\n",
      "Current `flash-attention` does not support `window_size`. Either upgrade or use `attn_implementation='eager'`.\n",
      "Loading checkpoint shards: 100%|██████████| 2/2 [00:56<00:00, 28.05s/it]\n"
     ]
    }
   ],
   "source": [
    "judge_model_id = \"microsoft/Phi-3-mini-4k-instruct\"\n",
    "# extract_model_id = \"Qwen/Qwen2.5-7B-Instruct\"\n",
    "\n",
    "# A model to judge if there is relevant information in the given text\n",
    "judge_model = AutoModelForCausalLM.from_pretrained( \n",
    "    judge_model_id,\n",
    "    device_map=\"cuda\",\n",
    "    torch_dtype=\"auto\",\n",
    "    trust_remote_code=True,\n",
    ")\n",
    "\n",
    "judge_model_tokenizer = AutoTokenizer.from_pretrained(judge_model_id)\n",
    "\n",
    "# # Extraction model to extract the relevant information\n",
    "# extract_model = AutoModelForCausalLM.from_pretrained( \n",
    "#     extract_model_id,\n",
    "#     device_map=\"cuda\",\n",
    "#     torch_dtype=\"auto\",\n",
    "#     trust_remote_code=True,\n",
    "# )\n",
    "\n",
    "# extract_model_tokenizer = AutoTokenizer.from_pretrained(extract_model_id)"
   ]
  },
  {
   "cell_type": "code",
   "execution_count": 4,
   "metadata": {},
   "outputs": [],
   "source": [
    "# Pipeline for the judgement model\n",
    "judge_pipe = pipeline(\n",
    "    \"text-generation\",\n",
    "    model=judge_model,\n",
    "    tokenizer=judge_model_tokenizer,\n",
    ")\n",
    "\n",
    "judge_generation_args = {\n",
    "    \"max_new_tokens\": 1,\n",
    "    \"return_full_text\": False,\n",
    "    \"temperature\": 0.5,\n",
    "    \"do_sample\": True,\n",
    "}"
   ]
  },
  {
   "cell_type": "code",
   "execution_count": 5,
   "metadata": {},
   "outputs": [],
   "source": [
    "# Pipeline for the extraction model\n",
    "extract_pipe = pipeline(\n",
    "    \"text-generation\",\n",
    "    # model=extract_model,\n",
    "    # tokenizer=extract_model_tokenizer,\n",
    "    model=judge_model,\n",
    "    tokenizer=judge_model_tokenizer,\n",
    ")\n",
    "\n",
    "extract_generation_args = {\n",
    "    \"max_new_tokens\": 250,\n",
    "    \"return_full_text\": False,\n",
    "    \"temperature\": 0.8,\n",
    "    \"do_sample\": True,\n",
    "}"
   ]
  },
  {
   "cell_type": "markdown",
   "metadata": {},
   "source": [
    "# User Input"
   ]
  },
  {
   "cell_type": "code",
   "execution_count": 14,
   "metadata": {},
   "outputs": [],
   "source": [
    "user_content = \"I was diagnosed with Arthritis\""
   ]
  },
  {
   "cell_type": "markdown",
   "metadata": {},
   "source": [
    "# Judgement"
   ]
  },
  {
   "cell_type": "code",
   "execution_count": 7,
   "metadata": {},
   "outputs": [],
   "source": [
    "judge_system_content = \"\"\"\n",
    "    Your duty is to assist the personal companion. You have to decide if the personal companion will benefit by remebering the facts from the given text.\n",
    "    The personal companion is expected to remember everything important to an individual. The personal companion is a best friend who takes care of the User.\n",
    "    The personal companion is a companion for old individuals.\n",
    "    The personal companion is expected to remember family and related matters, milestones in life, health issues, medication schedules.\n",
    "\n",
    "    If you think the text contains relevant information, you have to respond with 'TRUE'.\n",
    "    If there is no relevant information in the text, return 'FALSE'.\n",
    "    Do NOT say anything else. You have to respond ONLY with either 'TRUE' or 'FALSE'.\n",
    "    \n",
    "    You are the Assistant in the given examples.\n",
    "    \n",
    "    Examples:\n",
    "    \n",
    "    User: Hey, my name is Adam.\n",
    "    Assistant: TRUE\n",
    "    \n",
    "    User: I love my brother John.\n",
    "    Assistant: TRUE\n",
    "    \n",
    "    User: The sky is blue today.\n",
    "    Assistant: FALSE\n",
    "\"\"\""
   ]
  },
  {
   "cell_type": "code",
   "execution_count": 15,
   "metadata": {},
   "outputs": [],
   "source": [
    "judge_messages = [ \n",
    "    {\"role\": \"system\", \"content\": judge_system_content},\n",
    "    {\"role\": \"user\", \"content\": user_content},\n",
    "]"
   ]
  },
  {
   "cell_type": "code",
   "execution_count": 16,
   "metadata": {},
   "outputs": [
    {
     "name": "stdout",
     "output_type": "stream",
     "text": [
      " TRUE\n"
     ]
    }
   ],
   "source": [
    "output = judge_pipe(judge_messages, **judge_generation_args)\n",
    "judgement = output[0]['generated_text']\n",
    "print(judgement)"
   ]
  },
  {
   "cell_type": "markdown",
   "metadata": {},
   "source": [
    "# Extraction"
   ]
  },
  {
   "cell_type": "code",
   "execution_count": 10,
   "metadata": {},
   "outputs": [],
   "source": [
    "extract_system_content = \"\"\"\n",
    "    Your duty is to assist the personal companion. You have to extract the facts from the given text that will benefit hte personal companion.\n",
    "    The personal companion is expected to remember everything important to an individual. The personal companion is a best friend who takes care of the User.\n",
    "    The personal companion is a companion for old individuals.\n",
    "    The personal companion is expected to remember family and related matters, milestones in life, health issues, medication schedules.\n",
    "    \n",
    "    You have to extract the relevant information from the given text.\n",
    "    \n",
    "    You are the Assistant in the given examples.\n",
    "    \n",
    "    Examples:\n",
    "    \n",
    "    User: Hey, my name is Adam.\n",
    "    Assistant: Name is Adam.\n",
    "    \n",
    "    User: I love my brother John.\n",
    "    Assistant: Brother named John.\n",
    "    \n",
    "    User: The sky is blue today.\n",
    "    Assistant: \n",
    "    \n",
    "    User: I love my wife Emily and we just came from Coldplay concert. I love them.\n",
    "    Assistant: Wife named Emily. Likes Coldplay.\n",
    "\"\"\""
   ]
  },
  {
   "cell_type": "code",
   "execution_count": 17,
   "metadata": {},
   "outputs": [],
   "source": [
    "extract_messages = [ \n",
    "    {\"role\": \"system\", \"content\": extract_system_content},\n",
    "    {\"role\": \"user\", \"content\": user_content},\n",
    "]"
   ]
  },
  {
   "cell_type": "code",
   "execution_count": 18,
   "metadata": {},
   "outputs": [
    {
     "name": "stdout",
     "output_type": "stream",
     "text": [
      " Diagnosed with Arthritis.\n"
     ]
    }
   ],
   "source": [
    "if judgement == ' TRUE':\n",
    "    output = extract_pipe(extract_messages, **extract_generation_args)\n",
    "    memory = output[0]['generated_text']\n",
    "    print(memory)"
   ]
  }
 ],
 "metadata": {
  "kernelspec": {
   "display_name": ".chat-memory",
   "language": "python",
   "name": "python3"
  },
  "language_info": {
   "codemirror_mode": {
    "name": "ipython",
    "version": 3
   },
   "file_extension": ".py",
   "mimetype": "text/x-python",
   "name": "python",
   "nbconvert_exporter": "python",
   "pygments_lexer": "ipython3",
   "version": "3.12.3"
  }
 },
 "nbformat": 4,
 "nbformat_minor": 2
}
