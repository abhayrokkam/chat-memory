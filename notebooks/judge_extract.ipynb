{
 "cells": [
  {
   "cell_type": "code",
   "execution_count": null,
   "metadata": {},
   "outputs": [],
   "source": [
    "import torch\n",
    "from transformers import AutoModelForCausalLM, AutoTokenizer, pipeline"
   ]
  },
  {
   "cell_type": "markdown",
   "metadata": {},
   "source": [
    "# User Input"
   ]
  },
  {
   "cell_type": "code",
   "execution_count": null,
   "metadata": {},
   "outputs": [],
   "source": [
    "user_content = \"What should I do today?\""
   ]
  },
  {
   "cell_type": "markdown",
   "metadata": {},
   "source": [
    "# Judgement"
   ]
  },
  {
   "cell_type": "code",
   "execution_count": null,
   "metadata": {},
   "outputs": [],
   "source": [
    "judge_model_id = \"microsoft/Phi-3.5-mini-instruct\"\n",
    "\n",
    "# A model to judge if there is relevant information in the given text\n",
    "judge_model = AutoModelForCausalLM.from_pretrained( \n",
    "    judge_model_id,\n",
    "    device_map=\"cuda\",\n",
    "    torch_dtype=\"auto\",\n",
    "    trust_remote_code=True,\n",
    ")\n",
    "\n",
    "judge_model_tokenizer = AutoTokenizer.from_pretrained(judge_model_id)"
   ]
  },
  {
   "cell_type": "code",
   "execution_count": null,
   "metadata": {},
   "outputs": [],
   "source": [
    "# Pipeline for the judgement model\n",
    "judge_pipe = pipeline(\n",
    "    \"text-generation\",\n",
    "    model=judge_model,\n",
    "    tokenizer=judge_model_tokenizer,\n",
    ")\n",
    "\n",
    "judge_generation_args = {\n",
    "    \"max_new_tokens\": 1,\n",
    "    \"return_full_text\": False,\n",
    "    \"temperature\": 0.1,\n",
    "    \"do_sample\": True,\n",
    "}"
   ]
  },
  {
   "cell_type": "code",
   "execution_count": null,
   "metadata": {},
   "outputs": [],
   "source": [
    "judge_system_content = \"\"\"\n",
    "    Your duty is to assist the personal companion. You have to decide if the personal companion will benefit by remebering the facts from the given text.\n",
    "    The personal companion is expected to remember everything important to an individual. The personal companion is a best friend who takes care of the User.\n",
    "    The personal companion is a companion for old individuals.\n",
    "    The personal companion is expected to remember family and related matters, milestones in life, health issues, medication schedules.\n",
    "\n",
    "    If you think the text contains relevant information, you have to respond with 'TRUE'.\n",
    "    If there is no relevant information in the text, return 'FALSE'.\n",
    "    Do NOT say anything else. You have to respond ONLY with either 'TRUE' or 'FALSE'.\n",
    "    \n",
    "    You are the Assistant in the given examples.\n",
    "    \n",
    "    Examples:\n",
    "    \n",
    "    User: Hey, my name is Adam.\n",
    "    Assistant: TRUE\n",
    "    \n",
    "    User: I love my brother John.\n",
    "    Assistant: TRUE\n",
    "    \n",
    "    User: The sky is blue today.\n",
    "    Assistant: FALSE\n",
    "\"\"\""
   ]
  },
  {
   "cell_type": "code",
   "execution_count": null,
   "metadata": {},
   "outputs": [],
   "source": [
    "judge_messages = [ \n",
    "    {\"role\": \"system\", \"content\": judge_system_content},\n",
    "    {\"role\": \"user\", \"content\": user_content},\n",
    "]"
   ]
  },
  {
   "cell_type": "code",
   "execution_count": null,
   "metadata": {},
   "outputs": [],
   "source": [
    "output = judge_pipe(judge_messages, **judge_generation_args)\n",
    "judgement = output[0]['generated_text']\n",
    "print(judgement)"
   ]
  },
  {
   "cell_type": "markdown",
   "metadata": {},
   "source": [
    "# Clear CUDA cache"
   ]
  },
  {
   "cell_type": "code",
   "execution_count": null,
   "metadata": {},
   "outputs": [],
   "source": [
    "# Emptying cuda\n",
    "torch.cuda.empty_cache()\n",
    "del judge_model\n",
    "del judge_model_tokenizer\n",
    "del judge_pipe"
   ]
  },
  {
   "cell_type": "markdown",
   "metadata": {},
   "source": [
    "# Memory Extraction"
   ]
  },
  {
   "cell_type": "code",
   "execution_count": null,
   "metadata": {},
   "outputs": [],
   "source": [
    "extract_model_id = \"Qwen/Qwen2.5-7B-Instruct\"\n",
    "\n",
    "# Extraction model to extract the relevant information\n",
    "extract_model = AutoModelForCausalLM.from_pretrained( \n",
    "    extract_model_id,\n",
    "    device_map=\"cuda\",\n",
    "    torch_dtype=\"auto\",\n",
    "    trust_remote_code=True,\n",
    ")\n",
    "\n",
    "extract_model_tokenizer = AutoTokenizer.from_pretrained(extract_model_id)"
   ]
  },
  {
   "cell_type": "code",
   "execution_count": null,
   "metadata": {},
   "outputs": [],
   "source": [
    "# Pipeline for the extraction model\n",
    "extract_pipe = pipeline(\n",
    "    \"text-generation\",\n",
    "    model=extract_model,\n",
    "    tokenizer=extract_model_tokenizer,\n",
    ")\n",
    "\n",
    "extract_generation_args = {\n",
    "    \"max_new_tokens\": 100,\n",
    "    \"return_full_text\": False,\n",
    "    \"temperature\": 0.5,\n",
    "    \"do_sample\": True,\n",
    "}"
   ]
  },
  {
   "cell_type": "code",
   "execution_count": null,
   "metadata": {},
   "outputs": [],
   "source": [
    "extract_system_content = \"\"\"\n",
    "    Your duty is to assist the personal companion. You have to extract the facts from the given text that will benefit hte personal companion.\n",
    "    The personal companion is expected to remember everything important to an individual. The personal companion is a best friend who takes care of the User.\n",
    "    The personal companion is a companion for old individuals.\n",
    "    The personal companion is expected to remember family and related matters, milestones in life, health issues, medication schedules.\n",
    "    \n",
    "    You have to extract the relevant information from the given text.\n",
    "    \n",
    "    You are the Assistant in the given examples.\n",
    "    \n",
    "    Examples:\n",
    "    \n",
    "    User: Hey, my name is Adam.\n",
    "    Assistant: Name is Adam.\n",
    "    \n",
    "    User: I love my brother John.\n",
    "    Assistant: Brother named John.\n",
    "    \n",
    "    User: The sky is blue today.\n",
    "    Assistant: \n",
    "    \n",
    "    User: I love my wife Emily and we just came from Coldplay concert. I love them.\n",
    "    Assistant: Wife named Emily. Likes Coldplay.\n",
    "\"\"\""
   ]
  },
  {
   "cell_type": "code",
   "execution_count": null,
   "metadata": {},
   "outputs": [],
   "source": [
    "extract_messages = [ \n",
    "    {\"role\": \"system\", \"content\": extract_system_content},\n",
    "    {\"role\": \"user\", \"content\": user_content},\n",
    "]"
   ]
  },
  {
   "cell_type": "code",
   "execution_count": null,
   "metadata": {},
   "outputs": [],
   "source": [
    "if judgement == ' TRUE':\n",
    "    output = extract_pipe(extract_messages, **extract_generation_args)\n",
    "    memory = output[0]['generated_text']\n",
    "    print(memory)"
   ]
  }
 ],
 "metadata": {
  "kernelspec": {
   "display_name": ".chat-memory",
   "language": "python",
   "name": "python3"
  },
  "language_info": {
   "codemirror_mode": {
    "name": "ipython",
    "version": 3
   },
   "file_extension": ".py",
   "mimetype": "text/x-python",
   "name": "python",
   "nbconvert_exporter": "python",
   "pygments_lexer": "ipython3",
   "version": "3.12.3"
  }
 },
 "nbformat": 4,
 "nbformat_minor": 2
}
